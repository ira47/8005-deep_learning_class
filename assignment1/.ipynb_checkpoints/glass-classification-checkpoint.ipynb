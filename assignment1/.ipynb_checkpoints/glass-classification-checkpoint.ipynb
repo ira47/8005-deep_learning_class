{
 "cells": [
  {
   "cell_type": "code",
   "execution_count": 1,
   "metadata": {},
   "outputs": [],
   "source": [
    "# import some library we are gonna use\n",
    "import numpy as np\n",
    "import matplotlib.pyplot as plt\n",
    "import pandas as pd\n",
    "import sklearn"
   ]
  },
  {
   "cell_type": "code",
   "execution_count": 2,
   "metadata": {},
   "outputs": [
    {
     "data": {
      "text/html": [
       "<div>\n",
       "<style scoped>\n",
       "    .dataframe tbody tr th:only-of-type {\n",
       "        vertical-align: middle;\n",
       "    }\n",
       "\n",
       "    .dataframe tbody tr th {\n",
       "        vertical-align: top;\n",
       "    }\n",
       "\n",
       "    .dataframe thead th {\n",
       "        text-align: right;\n",
       "    }\n",
       "</style>\n",
       "<table border=\"1\" class=\"dataframe\">\n",
       "  <thead>\n",
       "    <tr style=\"text-align: right;\">\n",
       "      <th></th>\n",
       "      <th>id</th>\n",
       "      <th>RI</th>\n",
       "      <th>Na</th>\n",
       "      <th>Mg</th>\n",
       "      <th>Al</th>\n",
       "      <th>Si</th>\n",
       "      <th>K</th>\n",
       "      <th>Ca</th>\n",
       "      <th>Ba</th>\n",
       "      <th>Fe</th>\n",
       "      <th>class</th>\n",
       "    </tr>\n",
       "  </thead>\n",
       "  <tbody>\n",
       "    <tr>\n",
       "      <th>0</th>\n",
       "      <td>1</td>\n",
       "      <td>1.52101</td>\n",
       "      <td>13.64</td>\n",
       "      <td>4.49</td>\n",
       "      <td>1.10</td>\n",
       "      <td>71.78</td>\n",
       "      <td>0.06</td>\n",
       "      <td>8.75</td>\n",
       "      <td>0.0</td>\n",
       "      <td>0.0</td>\n",
       "      <td>1</td>\n",
       "    </tr>\n",
       "    <tr>\n",
       "      <th>1</th>\n",
       "      <td>2</td>\n",
       "      <td>1.51761</td>\n",
       "      <td>13.89</td>\n",
       "      <td>3.60</td>\n",
       "      <td>1.36</td>\n",
       "      <td>72.73</td>\n",
       "      <td>0.48</td>\n",
       "      <td>7.83</td>\n",
       "      <td>0.0</td>\n",
       "      <td>0.0</td>\n",
       "      <td>1</td>\n",
       "    </tr>\n",
       "    <tr>\n",
       "      <th>2</th>\n",
       "      <td>3</td>\n",
       "      <td>1.51618</td>\n",
       "      <td>13.53</td>\n",
       "      <td>3.55</td>\n",
       "      <td>1.54</td>\n",
       "      <td>72.99</td>\n",
       "      <td>0.39</td>\n",
       "      <td>7.78</td>\n",
       "      <td>0.0</td>\n",
       "      <td>0.0</td>\n",
       "      <td>1</td>\n",
       "    </tr>\n",
       "    <tr>\n",
       "      <th>3</th>\n",
       "      <td>4</td>\n",
       "      <td>1.51766</td>\n",
       "      <td>13.21</td>\n",
       "      <td>3.69</td>\n",
       "      <td>1.29</td>\n",
       "      <td>72.61</td>\n",
       "      <td>0.57</td>\n",
       "      <td>8.22</td>\n",
       "      <td>0.0</td>\n",
       "      <td>0.0</td>\n",
       "      <td>1</td>\n",
       "    </tr>\n",
       "    <tr>\n",
       "      <th>4</th>\n",
       "      <td>5</td>\n",
       "      <td>1.51742</td>\n",
       "      <td>13.27</td>\n",
       "      <td>3.62</td>\n",
       "      <td>1.24</td>\n",
       "      <td>73.08</td>\n",
       "      <td>0.55</td>\n",
       "      <td>8.07</td>\n",
       "      <td>0.0</td>\n",
       "      <td>0.0</td>\n",
       "      <td>1</td>\n",
       "    </tr>\n",
       "  </tbody>\n",
       "</table>\n",
       "</div>"
      ],
      "text/plain": [
       "   id       RI     Na    Mg    Al     Si     K    Ca   Ba   Fe  class\n",
       "0   1  1.52101  13.64  4.49  1.10  71.78  0.06  8.75  0.0  0.0      1\n",
       "1   2  1.51761  13.89  3.60  1.36  72.73  0.48  7.83  0.0  0.0      1\n",
       "2   3  1.51618  13.53  3.55  1.54  72.99  0.39  7.78  0.0  0.0      1\n",
       "3   4  1.51766  13.21  3.69  1.29  72.61  0.57  8.22  0.0  0.0      1\n",
       "4   5  1.51742  13.27  3.62  1.24  73.08  0.55  8.07  0.0  0.0      1"
      ]
     },
     "execution_count": 2,
     "metadata": {},
     "output_type": "execute_result"
    }
   ],
   "source": [
    "# Read the data from the iris.data file and show the first five item in the dataset\n",
    "# the iris dataset have four features: sepal_len, sepal_wid, petal_len and petal_wid\n",
    "# the last column is class which is the thing we want\n",
    "df = pd.read_csv('data/glass_ident/glass.data')\n",
    "df.head()"
   ]
  },
  {
   "cell_type": "code",
   "execution_count": 3,
   "metadata": {},
   "outputs": [],
   "source": [
    "# We can do slicing in pandas DataFrame using the iloc method as in NumPy Array\n",
    "X, y = df.iloc[:, 1:-1], df.iloc[:, -1]"
   ]
  },
  {
   "cell_type": "code",
   "execution_count": 4,
   "metadata": {},
   "outputs": [],
   "source": [
    "# Transform the DataFrame to numpy array\n",
    "X, y = np.array(X), np.array(y)\n",
    "for idx, class_name in enumerate(sorted(list(set(y)))):\n",
    "    y[y == class_name] = idx"
   ]
  },
  {
   "cell_type": "code",
   "execution_count": 5,
   "metadata": {},
   "outputs": [],
   "source": [
    "def get_classifier(X_train, y_train, num_epoch=1000, alpha=0.01):\n",
    "    theta = np.zeros((X_train.shape[1]))\n",
    "    for epoch in range(num_epoch):\n",
    "        # forward pass\n",
    "        logits = np.dot(X_train, theta)\n",
    "        h = 1 / (1 + np.exp(-logits))\n",
    "        cross_entropy_loss = (-y_train * np.log(h) - (1 - y_train) * np.log(1 - h)).mean()\n",
    "    \n",
    "        # backward pass\n",
    "        gradient = np.dot((h - y_train), X_train) / y.size\n",
    "        theta = theta - alpha * gradient\n",
    "    return theta"
   ]
  },
  {
   "cell_type": "code",
   "execution_count": 6,
   "metadata": {},
   "outputs": [],
   "source": [
    "def multi_classifier(X_train, y_train):\n",
    "    num_class = np.unique(y_train)\n",
    "    param = np.zeros((len(num_class), X_train.shape[1]))\n",
    "    \n",
    "    for i in num_class:\n",
    "        num_class = np.unique(y_train)\n",
    "        label_t = (y_train == num_class[i]).astype(np.float)\n",
    "        param[i, :] = get_classifier(X_train, label_t)\n",
    "    \n",
    "    return param"
   ]
  },
  {
   "cell_type": "code",
   "execution_count": 7,
   "metadata": {},
   "outputs": [],
   "source": [
    "from sklearn.model_selection import train_test_split"
   ]
  },
  {
   "cell_type": "code",
   "execution_count": 56,
   "metadata": {},
   "outputs": [],
   "source": [
    "X_train, X_test, y_train, y_test = train_test_split(X, y, test_size=0.3)\n",
    "\n",
    "f_mean, f_std = np.mean(X_train, axis=0), np.std(X_train, axis=0)\n",
    "X_train = (X_train - f_mean) / f_std\n",
    "X_test = (X_test - f_mean) / f_std\n",
    "\n",
    "X_train = np.concatenate((np.ones((X_train.shape[0], 1)), X_train), axis=1)\n",
    "X_test = np.concatenate((np.ones((X_test.shape[0], 1)), X_test), axis=1)"
   ]
  },
  {
   "cell_type": "code",
   "execution_count": 57,
   "metadata": {},
   "outputs": [],
   "source": [
    "params = multi_classifier(X_train, y_train)"
   ]
  },
  {
   "cell_type": "code",
   "execution_count": 58,
   "metadata": {},
   "outputs": [],
   "source": [
    "def pred(param, X_test, y_test):\n",
    "    f_size = X_test.shape\n",
    "    l_size = y_test.shape\n",
    "    assert (f_size[0] == l_size[0])\n",
    "    \n",
    "    logits = np.dot(X_test, np.transpose(param)).squeeze()\n",
    "    prob = 1 / (1 + np.exp(-logits))\n",
    "    \n",
    "    pred = np.argmax(prob, axis=1)\n",
    "    \n",
    "    accuracy = np.sum(pred == y_test) / l_size[0] * 100\n",
    "    \n",
    "    return prob, pred, accuracy"
   ]
  },
  {
   "cell_type": "code",
   "execution_count": 59,
   "metadata": {},
   "outputs": [
    {
     "name": "stdout",
     "output_type": "stream",
     "text": [
      "Prediction: [5 0 1 0 0 0 1 0 3 0 0 5 1 0 5 5 0 0 0 1 0 0 3 1 1 0 0 3 4 0 0 1 5 0 1 0 0\n",
      " 0 0 0 0 5 0 5 0 0 0 1 5 0 0 1 0 1 0 0 5 0 0 1 0 0 0 0 3]\n",
      "\n",
      "Accuracy: 52.308%\n"
     ]
    }
   ],
   "source": [
    "_, preds, accu = pred(params, X_test, y_test)\n",
    "print(\"Prediction: {}\\n\".format(preds))\n",
    "print(\"Accuracy: {:.3f}%\".format(accu))"
   ]
  },
  {
   "cell_type": "code",
   "execution_count": 43,
   "metadata": {},
   "outputs": [],
   "source": [
    "param = get_classifier(X_train, (y_train == 2).astype(np.float), )"
   ]
  },
  {
   "cell_type": "code",
   "execution_count": 44,
   "metadata": {},
   "outputs": [],
   "source": [
    "logits = np.dot(X_test, np.transpose(param))\n",
    "prob = 1 / (1 + np.exp(-logits))"
   ]
  },
  {
   "cell_type": "code",
   "execution_count": 45,
   "metadata": {},
   "outputs": [
    {
     "data": {
      "text/plain": [
       "array([0.1679436 , 0.16624701, 0.18288532, 0.15027829, 0.16925888,\n",
       "       0.12982249, 0.11428009, 0.20250414, 0.2515051 , 0.09782803,\n",
       "       0.18143907, 0.19644584, 0.20779502, 0.18027823, 0.15339476,\n",
       "       0.24978949, 0.09537728, 0.08160454, 0.17151049, 0.17213498,\n",
       "       0.19534846, 0.17503042, 0.13719427, 0.13395506, 0.18582037,\n",
       "       0.17633815, 0.17846326, 0.18202715, 0.19403391, 0.10284758,\n",
       "       0.19426269, 0.16230607, 0.1782496 , 0.13020355, 0.23422052,\n",
       "       0.24677979, 0.14243671, 0.1852543 , 0.18076227, 0.17242956,\n",
       "       0.22841532, 0.21256977, 0.28534368, 0.18081499, 0.20989615,\n",
       "       0.19124231, 0.13109459, 0.25803406, 0.19188068, 0.22119288,\n",
       "       0.1731835 , 0.12094036, 0.12711064, 0.22349197, 0.17481338,\n",
       "       0.14994777, 0.11132037, 0.22935117, 0.20430271, 0.18555453,\n",
       "       0.23407659, 0.16692783, 0.19468248, 0.17099886, 0.22733705])"
      ]
     },
     "execution_count": 45,
     "metadata": {},
     "output_type": "execute_result"
    }
   ],
   "source": [
    "prob"
   ]
  },
  {
   "cell_type": "code",
   "execution_count": 46,
   "metadata": {},
   "outputs": [
    {
     "data": {
      "text/plain": [
       "0.8923076923076924"
      ]
     },
     "execution_count": 46,
     "metadata": {},
     "output_type": "execute_result"
    }
   ],
   "source": [
    "((y_test == 2).astype(np.float) == (prob > 0.5)).mean()"
   ]
  },
  {
   "cell_type": "code",
   "execution_count": null,
   "metadata": {},
   "outputs": [],
   "source": []
  }
 ],
 "metadata": {
  "kernelspec": {
   "display_name": "Python 3",
   "language": "python",
   "name": "python3"
  },
  "language_info": {
   "codemirror_mode": {
    "name": "ipython",
    "version": 3
   },
   "file_extension": ".py",
   "mimetype": "text/x-python",
   "name": "python",
   "nbconvert_exporter": "python",
   "pygments_lexer": "ipython3",
   "version": "3.7.3"
  }
 },
 "nbformat": 4,
 "nbformat_minor": 2
}
